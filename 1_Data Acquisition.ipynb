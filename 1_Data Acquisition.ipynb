{
 "cells": [
  {
   "attachments": {},
   "cell_type": "markdown",
   "metadata": {},
   "source": [
    "# Data Acquisition via web scraping\n",
    "\n",
    "hard to replicate as: \n",
    "- search results change dynamically \n",
    "- Google search site structure may have changed (e.g. html class names)\n",
    "## 1. Setting up database and getting additional data \n",
    "additional data\n",
    "- demographic data\n",
    "\n",
    "### Load supplementary data into database"
   ]
  },
  {
   "cell_type": "code",
   "execution_count": null,
   "metadata": {},
   "outputs": [],
   "source": [
    "from tristo.database import OpenDB, add_external_data, load_tables_from_file\n",
    "with OpenDB().session() as session:\n",
    "    add_external_data(session=session)\n",
    "    load_tables_from_file(session=session)\n",
    "    session.commit()"
   ]
  },
  {
   "cell_type": "markdown",
   "metadata": {},
   "source": [
    "### Reload package with added data"
   ]
  },
  {
   "cell_type": "code",
   "execution_count": null,
   "metadata": {},
   "outputs": [],
   "source": [
    "from tristo import scrape_pages, make_file_index, update_file_info, extract_tables, tables_to_db"
   ]
  },
  {
   "cell_type": "markdown",
   "metadata": {},
   "source": [
    "### Scrape data\n"
   ]
  },
  {
   "cell_type": "code",
   "execution_count": null,
   "metadata": {},
   "outputs": [],
   "source": [
    "with OpenDB().session() as session:\n",
    "    scrape_pages('Trinkwasserqualität',session=session, how='LAU', n_res=4)"
   ]
  },
  {
   "attachments": {},
   "cell_type": "markdown",
   "metadata": {},
   "source": [
    "## 2. Clean and scan Raw Data \n",
    "folder with raw data necessary (with .pdf documents)"
   ]
  },
  {
   "attachments": {},
   "cell_type": "markdown",
   "metadata": {},
   "source": [
    "### Update file Index\n",
    "Index files into database"
   ]
  },
  {
   "cell_type": "code",
   "execution_count": null,
   "metadata": {},
   "outputs": [],
   "source": [
    "with OpenDB().session() as session:\n",
    "    make_file_index(session=session)\n"
   ]
  },
  {
   "cell_type": "markdown",
   "metadata": {},
   "source": [
    "### Extract file info\n",
    "Extract metadata such as:\n",
    "- file size\n",
    "- number of pages (if avaliable)\n",
    "- date\n",
    "- number of parameters\n",
    "- errors\n",
    "\n",
    "...may take some time"
   ]
  },
  {
   "cell_type": "code",
   "execution_count": null,
   "metadata": {},
   "outputs": [],
   "source": [
    "with OpenDB().session() as session:\n",
    "    update_file_info(session=session)"
   ]
  },
  {
   "cell_type": "markdown",
   "metadata": {},
   "source": [
    "### Extract tables\n",
    "Extract tables from documents with certain number of detected parameters and save as .xlsx\n",
    "\n",
    "...may take some time\n"
   ]
  },
  {
   "cell_type": "code",
   "execution_count": null,
   "metadata": {},
   "outputs": [],
   "source": [
    "with OpenDB().session() as session:\n",
    "    extract_tables(session=session)"
   ]
  },
  {
   "cell_type": "markdown",
   "metadata": {},
   "source": [
    "### Add extracted tables to database (~2 h)\n",
    "Read in tables, detect parameter and unit column and send to database.\n"
   ]
  },
  {
   "cell_type": "code",
   "execution_count": null,
   "metadata": {},
   "outputs": [],
   "source": [
    "with OpenDB().session() as session:\n",
    "    dfs = tables_to_db(session=session, overwrite=False)"
   ]
  }
 ],
 "metadata": {
  "kernelspec": {
   "display_name": "tristo_fs",
   "language": "python",
   "name": "python3"
  },
  "language_info": {
   "name": "python",
   "version": "3.10.6"
  },
  "orig_nbformat": 4,
  "vscode": {
   "interpreter": {
    "hash": "a74315267e96562a798302673d164b9437c5d6633bf797028d45f6df0b14b9d1"
   }
  }
 },
 "nbformat": 4,
 "nbformat_minor": 2
}
