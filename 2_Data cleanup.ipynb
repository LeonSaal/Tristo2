{
 "cells": [
  {
   "attachments": {},
   "cell_type": "markdown",
   "metadata": {},
   "source": [
    "# Process raw data in database\n",
    "Works solely with database in raw state\n",
    "### Mark data in database (20 min)\n",
    "Mark lines based on blacklist and associate remainder with parameters from whitelist"
   ]
  },
  {
   "cell_type": "code",
   "execution_count": null,
   "metadata": {},
   "outputs": [],
   "source": [
    "from tristo import  mark_data, clean_data_table\n",
    "from tristo.database import OpenDB"
   ]
  },
  {
   "cell_type": "code",
   "execution_count": 2,
   "metadata": {},
   "outputs": [
    {
     "name": "stderr",
     "output_type": "stream",
     "text": [
      "[ INFO  ]: Marking blacklist:\n",
      "[ INFO  ]: 100%|██████████| 8075/8075 [03:34<00:00, 37.62it/s, Qualitätsparameter            ] \n",
      "[ INFO  ]: Marked a total of 1477 from 8075 entries as blacklist (18%).\n",
      "g:\\uba_wimi\\1_tristo\\4_skript_v2\\tristo2\\tristo\\utils.py:123: FutureWarning: Possible nested set at position 1\n",
      "  param = re.sub(pat, replacement, param, flags=re.I)\n",
      "[ INFO  ]: Marking parameters:\n",
      "[ INFO  ]: 100%|██████████| 6598/6598 [13:56<00:00,  7.88it/s, \"cWassertemperatur (t)        ]\n",
      "[ INFO  ]: Marked a total of 5487 from 6598 entries as parameters (83%).\n",
      "[ INFO  ]: 80 entries resulted in multiple matches (1%).\n",
      "[ INFO  ]: 1031 entries remain unmatched (16%).\n",
      "[ INFO  ]: Results are stored in 'params_230127-11_12.xlsx'\n"
     ]
    }
   ],
   "source": [
    "with OpenDB().session() as session:\n",
    "    mark_data(session=session, overwrite=True)"
   ]
  },
  {
   "attachments": {},
   "cell_type": "markdown",
   "metadata": {},
   "source": [
    "### Cleaning data (30 min)\n",
    "1. determining unit conversion factor\n",
    "2. marking limit columns\n",
    "3. marking numbering columns\n",
    "4. marking ouliers"
   ]
  },
  {
   "cell_type": "code",
   "execution_count": 4,
   "metadata": {},
   "outputs": [
    {
     "name": "stderr",
     "output_type": "stream",
     "text": [
      "[ INFO  ]: Cleaning values...\n",
      "[ INFO  ]: Setting unit factor:\n",
      "[ INFO  ]: 100%|██████████| 749/749 [15:24<00:00,  1.23s/it, Triflusulfuron: pg/l -> 1.000E-06 x µg/l]                                                         \n",
      "[ INFO  ]: Marking limit columns:\n",
      "[ INFO  ]: 100%|██████████| 3298/3298 [06:01<00:00,  9.11it/s, 063ef7092b9b6321d5cc65e2b0b24ef1c679e810: table 0, column 2]  \n",
      "[ INFO  ]: Marking number columns:\n",
      "[ INFO  ]: 100%|██████████| 3887/3887 [08:29<00:00,  7.62it/s, ffe1f917d2ab2e386002e1ba6f11cdaa90a8db1a: table 0]  \n",
      "[ INFO  ]: Marking outlier...\n"
     ]
    },
    {
     "name": "stdout",
     "output_type": "stream",
     "text": [
      "Marked 795 columns as pagination.\n"
     ]
    }
   ],
   "source": [
    "with OpenDB().session() as session:\n",
    "    clean_data_table(session=session, overwrite=True)"
   ]
  }
 ],
 "metadata": {
  "kernelspec": {
   "display_name": "Python 3.10.6 ('tristo_fs')",
   "language": "python",
   "name": "python3"
  },
  "language_info": {
   "codemirror_mode": {
    "name": "ipython",
    "version": 3
   },
   "file_extension": ".py",
   "mimetype": "text/x-python",
   "name": "python",
   "nbconvert_exporter": "python",
   "pygments_lexer": "ipython3",
   "version": "3.10.6"
  },
  "orig_nbformat": 4,
  "vscode": {
   "interpreter": {
    "hash": "a74315267e96562a798302673d164b9437c5d6633bf797028d45f6df0b14b9d1"
   }
  }
 },
 "nbformat": 4,
 "nbformat_minor": 2
}
